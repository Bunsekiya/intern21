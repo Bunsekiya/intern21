{
  "nbformat": 4,
  "nbformat_minor": 0,
  "metadata": {
    "colab": {
      "name": "ニューラルネットワークによる衣料品の分類200304",
      "provenance": [],
      "private_outputs": true,
      "collapsed_sections": [],
      "include_colab_link": true
    },
    "kernelspec": {
      "name": "python3",
      "display_name": "Python 3"
    }
  },
  "cells": [
    {
      "cell_type": "markdown",
      "metadata": {
        "id": "view-in-github",
        "colab_type": "text"
      },
      "source": [
        "<a href=\"https://colab.research.google.com/github/Bunsekiya/intern21/blob/master/%E3%83%8B%E3%83%A5%E3%83%BC%E3%83%A9%E3%83%AB%E3%83%8D%E3%83%83%E3%83%88%E3%83%AF%E3%83%BC%E3%82%AF%E3%81%AB%E3%82%88%E3%82%8B%E8%A1%A3%E6%96%99%E5%93%81%E3%81%AE%E5%88%86%E9%A1%9E200304.ipynb\" target=\"_parent\"><img src=\"https://colab.research.google.com/assets/colab-badge.svg\" alt=\"Open In Colab\"/></a>"
      ]
    },
    {
      "cell_type": "markdown",
      "metadata": {
        "colab_type": "text",
        "id": "jYysdyb-CaWM"
      },
      "source": [
        "# ニューラルネットワークによる衣料品の分類"
      ]
    },
    {
      "cell_type": "markdown",
      "metadata": {
        "colab_type": "text",
        "id": "FbVhjPpzn6BM"
      },
      "source": [
        "スニーカーやシャツなど、身に着けるものの写真を分類するニューラルネットワークのモデルを作成します。\n",
        "\n",
        "TensorFlowのモデルを構築し訓練するためのAPIは [tf.keras](https://www.tensorflow.org/guide/keras)を使用します。"
      ]
    },
    {
      "cell_type": "code",
      "metadata": {
        "colab_type": "code",
        "id": "dzLKpmZICaWN",
        "colab": {}
      },
      "source": [
        "#　使用するtensorflowのバージョンを指定する\n",
        "%tensorflow_version 2.x\n",
        "\n",
        "from __future__ import absolute_import, division, print_function, unicode_literals\n",
        "\n",
        "# TensorFlow と tf.keras のインポート\n",
        "import tensorflow as tf\n",
        "\n",
        "from tensorflow import keras\n",
        "\n",
        "# ヘルパーライブラリのインポート\n",
        "import numpy as np\n",
        "import matplotlib.pyplot as plt\n",
        "\n",
        "print(tf.__version__)"
      ],
      "execution_count": 0,
      "outputs": []
    },
    {
      "cell_type": "markdown",
      "metadata": {
        "colab_type": "text",
        "id": "yR0EdgrLCaWR"
      },
      "source": [
        "## ファッションMNISTデータセットのロード"
      ]
    },
    {
      "cell_type": "markdown",
      "metadata": {
        "colab_type": "text",
        "id": "DLdCchMdCaWQ"
      },
      "source": [
        "データセットは、[Fashion MNIST](https://github.com/zalandoresearch/fashion-mnist)を使用します。Fashion MNISTには10カテゴリーの白黒画像70,000枚が含まれています。それぞれは下図のような1枚に付き1種類の衣料品が写っている低解像度（28×28ピクセル）の画像です。\n",
        "\n",
        "<table>\n",
        "  <tr><td>\n",
        "    <img src=\"https://tensorflow.org/images/fashion-mnist-sprite.png\"\n",
        "         alt=\"Fashion MNIST sprite\"  width=\"600\">\n",
        "  </td></tr>\n",
        "  <tr><td align=\"center\">\n",
        "    <b>Figure 1.</b> <a href=\"https://github.com/zalandoresearch/fashion-mnist\">Fashion-MNIST samples</a> (by Zalando, MIT License).<br/>&nbsp;\n",
        "  </td></tr>\n",
        "</table>\n",
        "\n",
        "ここでは、60,000枚の画像を訓練に、10,000枚の画像を、ネットワークが学習した画像分類の正確性を評価するのに使います。\n",
        "以下のようにTensorFlowを使ってFashion MNISTのデータをインポートし、ロードすることが出来ます。"
      ]
    },
    {
      "cell_type": "code",
      "metadata": {
        "colab_type": "code",
        "id": "7MqDQO0KCaWS",
        "colab": {}
      },
      "source": [
        "# Fashion Mnistの取り込み（インポート）\n",
        "fashion_mnist = keras.datasets.fashion_mnist\n",
        "\n",
        "# 画像データをtrain*（画像、ラベル）とtest*(画像、ラベル)に分ける\n",
        "(train_images, train_labels), (test_images, test_labels) = fashion_mnist.load_data()"
      ],
      "execution_count": 0,
      "outputs": []
    },
    {
      "cell_type": "markdown",
      "metadata": {
        "colab_type": "text",
        "id": "t9FDsUlxCaWW"
      },
      "source": [
        "* train_images と train_labels の2つの配列は、モデルの訓練に使用される訓練用データセットです。\n",
        "* 訓練されたモデルは、 test_images と test_labels 配列からなるテスト用データセットを使ってテストします。\n",
        "\n",
        "画像は28×28ピクセルで構成されています。それぞれのピクセルの値は0から255の間の整数です。ラベル（label）は、0から9までの整数の配列です。それぞれの数字が下表のように、衣料品のクラス（class）に対応しています。\n",
        "\n",
        "<table>\n",
        "  <tr>\n",
        "    <th>Label</th>\n",
        "    <th>Class</th> \n",
        "  </tr>\n",
        "  <tr>\n",
        "    <td>0</td>\n",
        "    <td>T-shirt/top</td> \n",
        "  </tr>\n",
        "  <tr>\n",
        "    <td>1</td>\n",
        "    <td>Trouser</td> \n",
        "  </tr>\n",
        "    <tr>\n",
        "    <td>2</td>\n",
        "    <td>Pullover</td> \n",
        "  </tr>\n",
        "    <tr>\n",
        "    <td>3</td>\n",
        "    <td>Dress</td> \n",
        "  </tr>\n",
        "    <tr>\n",
        "    <td>4</td>\n",
        "    <td>Coat</td> \n",
        "  </tr>\n",
        "    <tr>\n",
        "    <td>5</td>\n",
        "    <td>Sandal</td> \n",
        "  </tr>\n",
        "    <tr>\n",
        "    <td>6</td>\n",
        "    <td>Shirt</td> \n",
        "  </tr>\n",
        "    <tr>\n",
        "    <td>7</td>\n",
        "    <td>Sneaker</td> \n",
        "  </tr>\n",
        "    <tr>\n",
        "    <td>8</td>\n",
        "    <td>Bag</td> \n",
        "  </tr>\n",
        "    <tr>\n",
        "    <td>9</td>\n",
        "    <td>Ankle boot</td> \n",
        "  </tr>\n",
        "</table>"
      ]
    },
    {
      "cell_type": "markdown",
      "metadata": {
        "colab_type": "text",
        "id": "Brm0b_KACaWX"
      },
      "source": [
        "## データの観察\n",
        "\n",
        "モデルの訓練を行う前に、データセットのフォーマットを見てみましょう。下記のように、訓練用データセットには28×28ピクセルの画像が60,000枚含まれています。"
      ]
    },
    {
      "cell_type": "code",
      "metadata": {
        "colab_type": "code",
        "id": "zW5k_xz1CaWX",
        "colab": {}
      },
      "source": [
        "# トレーニングをする画像の数と縦幅横幅の大きさを表示\n",
        "print(train_images.shape)"
      ],
      "execution_count": 0,
      "outputs": []
    },
    {
      "cell_type": "markdown",
      "metadata": {
        "colab_type": "text",
        "id": "cIAcvQqMCaWf"
      },
      "source": [
        "同様に、訓練用データセットには60,000個のラベルが含まれます。"
      ]
    },
    {
      "cell_type": "code",
      "metadata": {
        "colab_type": "code",
        "id": "TRFYHB2mCaWb",
        "colab": {}
      },
      "source": [
        "# トレーニングをするラベルの数を表示\n",
        "print(len(train_labels))"
      ],
      "execution_count": 0,
      "outputs": []
    },
    {
      "cell_type": "markdown",
      "metadata": {
        "colab_type": "text",
        "id": "YSlYxFuRCaWk"
      },
      "source": [
        "ラベルはそれぞれ、0から9までの間の整数です。"
      ]
    },
    {
      "cell_type": "code",
      "metadata": {
        "colab_type": "code",
        "id": "XKnCTHz4CaWg",
        "colab": {}
      },
      "source": [
        "# ラベルを表示\n",
        "print(train_labels)"
      ],
      "execution_count": 0,
      "outputs": []
    },
    {
      "cell_type": "markdown",
      "metadata": {
        "colab_type": "text",
        "id": "TMPI88iZpO2T"
      },
      "source": [
        "テスト用データセットには、10,000枚の画像が含まれます。画像は28×28ピクセルで構成されています。"
      ]
    },
    {
      "cell_type": "code",
      "metadata": {
        "colab_type": "code",
        "id": "2KFnYlcwCaWl",
        "colab": {}
      },
      "source": [
        "# テストをする画像の数と縦幅横幅の大きさ\n",
        "print(test_images.shape)"
      ],
      "execution_count": 0,
      "outputs": []
    },
    {
      "cell_type": "markdown",
      "metadata": {
        "colab_type": "text",
        "id": "rd0A0Iu0CaWq"
      },
      "source": [
        "テスト用データセットには10,000個のラベルが含まれます。"
      ]
    },
    {
      "cell_type": "code",
      "metadata": {
        "colab_type": "code",
        "id": "iJmPr5-ACaWn",
        "colab": {}
      },
      "source": [
        "# テストをするラベルの数\n",
        "print(len(test_labels))"
      ],
      "execution_count": 0,
      "outputs": []
    },
    {
      "cell_type": "markdown",
      "metadata": {
        "colab_type": "text",
        "id": "ES6uQoLKCaWr"
      },
      "source": [
        "## データの前処理\n",
        "\n",
        "ネットワークを訓練する前に、データを前処理する必要があります。\n",
        "以下のコードを実行し、画像の幅が28✕28になっていること、ピクセルの値は0から255の間の数値になっていることを確認しましょう。"
      ]
    },
    {
      "cell_type": "code",
      "metadata": {
        "colab_type": "code",
        "id": "m4VEw8Ud9Quh",
        "colab": {}
      },
      "source": [
        "plt.figure()\n",
        "plt.imshow(train_images[0])\n",
        "plt.colorbar()\n",
        "plt.gca().grid(True)"
      ],
      "execution_count": 0,
      "outputs": []
    },
    {
      "cell_type": "markdown",
      "metadata": {
        "colab_type": "text",
        "id": "Ee638AlnCaWz"
      },
      "source": [
        "**訓練用データセット**の最初の10枚の画像を、クラス名付きで表示してみましょう。"
      ]
    },
    {
      "cell_type": "code",
      "metadata": {
        "colab_type": "code",
        "id": "oZTImqg_CaW1",
        "colab": {}
      },
      "source": [
        "import matplotlib.cm as cm\n",
        "\n",
        "# このまま学習させると処理に大きな負荷を掛けるため学習データをスケーリング（0から1の範囲）していきます。\n",
        "train_images = train_images / 255.0\n",
        "test_images = test_images / 255.0\n",
        "\n",
        "# 服ラベル（0～9）のクラス分けを行うための準備をします。\n",
        "class_names = ['T-shirt/top', 'Trouser', 'Pullover', 'Dress', 'Coat', \n",
        "               'Sandal', 'Shirt', 'Sneaker', 'Bag', 'Ankle boot']\n",
        "\n",
        "# 図を描画する\n",
        "plt.figure(figsize=(10,10)) # 大きさを指定\n",
        "for i in range(25):\n",
        "    plt.subplot(5,5,i+1) # 配置指定\n",
        "    plt.xticks([]) # x軸の目盛りを取得または設定\n",
        "    plt.yticks([]) # y軸の目盛りを取得または設定\n",
        "    plt.grid(False) # グリッド線を非表示に設定\n",
        "    plt.imshow(train_images[i], cmap=plt.cm.binary) # 出力する色合いを指定\n",
        "    plt.xlabel(class_names[train_labels[i]]) # x軸のラベルを出力"
      ],
      "execution_count": 0,
      "outputs": []
    },
    {
      "cell_type": "markdown",
      "metadata": {
        "colab_type": "text",
        "id": "qV4HLDIPnWu1"
      },
      "source": [
        "## モデルの構築\n",
        "\n",
        "ニューラルネットワークを構築するには、まずモデルの階層を定義し、その後モデルをコンパイルします。"
      ]
    },
    {
      "cell_type": "markdown",
      "metadata": {
        "colab_type": "text",
        "id": "gut8A_7rCaW6"
      },
      "source": [
        "### 層の設定\n",
        "\n",
        "* 入力層\n",
        "\n",
        "このネットワークの最初の層は、画像を（28×28ピクセルの）2次元配列から、28×28＝784ピクセルの、1次元配列に変換します。\n",
        "\n",
        "* 中間層\n",
        "\n",
        "ニューロンの活性化によって判別に有利な特徴を抽出します。中間層では**層の数**や**ニューロン数**の設定が特徴の抽出に影響します。また、中間層の処理につかわれる**活性化関数**には**linear、hard_sigmoid、sigmoid、tanh、relu、softsign、softplus**などがあります。\n",
        "\n",
        "* 出力層\n",
        "\n",
        "最後の層は、10ニューロンのsoftmax層です。それぞれのニューロンは、画像が10個のクラスのひとつひとつに属する確率を出力します。"
      ]
    },
    {
      "cell_type": "markdown",
      "metadata": {
        "id": "1SpI-oSRTfyz",
        "colab_type": "text"
      },
      "source": [
        "### モデルのコンパイル\n",
        "\n",
        "* **オプティマイザ**（optimizer）勾配降下法によって出力ニューロンに対する重みを最適化します。現在公開されているオプティマイザには**SGD、RMSprop、Adagrad、Adadelta、Adam、Adamax、Nadam**などがあります。"
      ]
    },
    {
      "cell_type": "code",
      "metadata": {
        "id": "mpTx0lVXZyHM",
        "colab_type": "code",
        "colab": {}
      },
      "source": [
        "#層の設定\n",
        "model = keras.Sequential([\n",
        "    # 入力を2次元から1次元に落とす\n",
        "    keras.layers.Flatten(input_shape=(28, 28)), #1層目\n",
        "\n",
        "    # 中間層をノード数○〇を設定し、活性化関数を✕✕に設定\n",
        "    keras.layers.Dense(512, activation='relu'), #2層目\n",
        "    \n",
        "    # 最後の出力は10段階で、それぞれの確率がでるようにする。\n",
        "    keras.layers.Dense(10, activation='softmax') #3層目\n",
        "])\n",
        "\n",
        "#モデルのコンパイル(プログラミング言語をPC語に変換)\n",
        "model.compile(optimizer='RMSprop', \n",
        "              loss='sparse_categorical_crossentropy',\n",
        "              metrics=['accuracy','sparse_categorical_crossentropy'])"
      ],
      "execution_count": 0,
      "outputs": []
    },
    {
      "cell_type": "markdown",
      "metadata": {
        "colab_type": "text",
        "id": "qKF6uW-BCaW-"
      },
      "source": [
        "## モデルの訓練\n",
        "\n",
        "ニューラルネットワークの訓練にはmodel.fit メソッドを呼び出します。モデルを訓練用データに \"fit\"（適合）させるという意味です。学習の試行回数（**エポック数**）はepochsで指定します。訓練は以下のステップで行われています。\n",
        "\n",
        "1. モデルに訓練用データを投入します—この例では train_images と train_labels の２つの配列です。\n",
        "2. モデルは、画像とラベルの対応関係を学習します。\n",
        "3. モデルにテスト用データセットの予測（分類）を行わせます—この例では test_images 配列です。その後、予測結果と test_labels 配列を照合します。 "
      ]
    },
    {
      "cell_type": "code",
      "metadata": {
        "colab_type": "code",
        "id": "xvwvpA64CaW_",
        "colab": {}
      },
      "source": [
        "# epochs 訓練を何回繰り返すか\n",
        "model_history = model.fit(train_images, train_labels, epochs=50, batch_size=512, validation_data=(test_images, test_labels), verbose=2)"
      ],
      "execution_count": 0,
      "outputs": []
    },
    {
      "cell_type": "markdown",
      "metadata": {
        "colab_type": "text",
        "id": "W3ZVOhugCaXA"
      },
      "source": [
        "モデルの訓練の進行とともに、損失値と正解率が表示されます。"
      ]
    },
    {
      "cell_type": "markdown",
      "metadata": {
        "colab_type": "text",
        "id": "oEw4bZgGCaXB"
      },
      "source": [
        "## 正解率の評価\n",
        "\n",
        "次に、テスト用データセットに対するモデルの性能を比較します。"
      ]
    },
    {
      "cell_type": "code",
      "metadata": {
        "colab_type": "code",
        "id": "VflXLEeECaXC",
        "colab": {}
      },
      "source": [
        "# test_loss, test_acc = model.evaluate(test_images,  test_labels, verbose=2)\n",
        "# print('\\nTest accuracy:', test_acc)\n",
        "\n",
        "# エポック毎のモデル性能をグラフに出力します\n",
        "def plot_history(histories, key):\n",
        "  plt.figure(figsize=(8,5))\n",
        "    \n",
        "  for name, history in histories:\n",
        "    val = plt.plot(history.epoch, history.history['val_'+key],\n",
        "                   '--', label=name.title()+' Val')\n",
        "    plt.plot(history.epoch, history.history[key], color=val[0].get_color(),\n",
        "             label=name.title()+' Train')\n",
        "\n",
        "  plt.xlabel('Epochs')\n",
        "  plt.ylabel(key.replace('_',' ').title())\n",
        "  plt.legend()\n",
        "\n",
        "  plt.xlim([0,max(history.epoch)])\n",
        "\n",
        "plot_history([('baseline', model_history)], key='sparse_categorical_crossentropy')\n",
        "plot_history([('baseline', model_history)], key='accuracy')"
      ],
      "execution_count": 0,
      "outputs": []
    },
    {
      "cell_type": "markdown",
      "metadata": {
        "colab_type": "text",
        "id": "yWfgsmVXCaXG"
      },
      "source": [
        "ご覧の通り、テスト用データセットでの正解率は、訓練用データセットでの正解率よりも少し低くなります。この訓練時の正解率とテスト時の正解率の差は、過学習（over fitting）の一例です。過学習とは、新しいデータに対する機械学習モデルの性能が、訓練時と比較して低下する現象です。"
      ]
    },
    {
      "cell_type": "markdown",
      "metadata": {
        "colab_type": "text",
        "id": "xsoS7CPDCaXH"
      },
      "source": [
        "## 予測する\n",
        "\n",
        "モデルの訓練が終わったら、そのモデルを使って画像の分類予測を行うことが出来ます。"
      ]
    },
    {
      "cell_type": "code",
      "metadata": {
        "id": "qPAURUSIs1OP",
        "colab_type": "code",
        "colab": {}
      },
      "source": [
        "def plot_image(i, predictions_array, true_label, img):\n",
        "    predictions_array, true_label, img = predictions_array[i], true_label[i], img[i]\n",
        "    plt.grid(False)\n",
        "    plt.xticks([])\n",
        "    plt.yticks([])\n",
        "\n",
        "    plt.imshow(img, cmap=plt.cm.binary)\n",
        "\n",
        "    predicted_label = np.argmax(predictions_array)\n",
        "    if predicted_label == true_label:\n",
        "        color = 'green'\n",
        "    else:\n",
        "        color = 'yellow'\n",
        "\n",
        "    plt.xlabel(\"{} {:2.0f}% ({})\".format(class_names[predicted_label],\n",
        "                                    100*np.max(predictions_array),\n",
        "                                    class_names[true_label]),\n",
        "                                    color=color)\n",
        "\n",
        "def plot_value_array(i, predictions_array, true_label):\n",
        "    predictions_array, true_label = predictions_array[i], true_label[i]\n",
        "    plt.grid(False)\n",
        "    plt.xticks([])\n",
        "    plt.yticks([])\n",
        "    thisplot = plt.bar(range(10), predictions_array, color=\"#777777\")\n",
        "    plt.ylim([0, 1]) \n",
        "    predicted_label = np.argmax(predictions_array)\n",
        "\n",
        "    thisplot[predicted_label].set_color('yellow')\n",
        "    thisplot[true_label].set_color('green')\n",
        "\n",
        "predictions = model.predict(test_images)\n",
        "\n",
        "# print(np.argmax(predictions[0]))\n",
        "\n",
        "i=2 #確認したいデータNo.を指定する\n",
        "plt.figure(figsize=(6,3))\n",
        "plt.subplot(1,2,1)\n",
        "plot_image(i, predictions, test_labels, test_images)\n",
        "plt.figure(figsize=(12,3))\n",
        "plt.subplot(1,2,2)\n",
        "plot_value_array(i, predictions, test_labels)\n",
        "_ = plt.xticks(range(10), class_names, rotation=45)\n",
        "plt.show()"
      ],
      "execution_count": 0,
      "outputs": []
    },
    {
      "cell_type": "markdown",
      "metadata": {
        "colab_type": "text",
        "id": "6rO1O3L4Q9ds"
      },
      "source": [
        "モデルがテスト用データセットの画像のひとつひとつを分類予測した結果です。これは、その画像が10の衣料品の種類のそれぞれに該当するかの「確信度」を表しています。\n",
        "\n",
        "この確信度が正しいかどうか、テスト用ラベルを見てみましょう。"
      ]
    },
    {
      "cell_type": "code",
      "metadata": {
        "colab_type": "code",
        "id": "wcIRrYhAQ3SQ",
        "colab": {}
      },
      "source": [
        "print(test_labels[2])"
      ],
      "execution_count": 0,
      "outputs": []
    },
    {
      "cell_type": "markdown",
      "metadata": {
        "id": "cXL1wxepbRpI",
        "colab_type": "text"
      },
      "source": [
        "## 課題\n",
        "\n",
        "モデルのハイパーパラメータを調整してモデルの正解率を向上させよ。\n",
        "\n",
        "**ヒント：層の数、ニューロン数、活性化関数、オプティマイザ、エポック数**"
      ]
    }
  ]
}